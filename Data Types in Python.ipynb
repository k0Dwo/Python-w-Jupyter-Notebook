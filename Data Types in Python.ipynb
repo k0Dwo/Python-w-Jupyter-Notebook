{
 "cells": [
  {
   "cell_type": "code",
   "execution_count": 1,
   "id": "7ea81a5f-addf-402c-9e4d-a0587ec55a5c",
   "metadata": {},
   "outputs": [],
   "source": [
    "#Declare variables\n",
    "\n",
    "a = 12\n",
    "b = 8.0\n",
    "c = 56\n",
    "d = \"Hello, world!\"\n",
    "e = 'Hi my name is Nana Kodwo'\n",
    "g = (4,5,6)\n",
    "h = [1, 3, 5]\n",
    "m = {4,9,11}\n",
    "r = {\"name\": \"Alice\", \"age\": 29}\n",
    "z = False"
   ]
  },
  {
   "cell_type": "code",
   "execution_count": 2,
   "id": "bcca9a5c-e936-435c-8a0b-8ab393b12924",
   "metadata": {},
   "outputs": [
    {
     "name": "stdout",
     "output_type": "stream",
     "text": [
      "<class 'int'>\n",
      "<class 'float'>\n",
      "<class 'int'>\n",
      "<class 'str'>\n",
      "<class 'str'>\n",
      "<class 'tuple'>\n",
      "<class 'list'>\n",
      "<class 'set'>\n",
      "<class 'dict'>\n",
      "<class 'bool'>\n"
     ]
    }
   ],
   "source": [
    "#Print data type\n",
    "\n",
    "print(type(a))\n",
    "print(type(b))\n",
    "print(type(c))\n",
    "print(type(d))\n",
    "print(type(e))\n",
    "print(type(g))\n",
    "print(type(h))\n",
    "print(type(m))\n",
    "print(type(r))\n",
    "print(type(z))"
   ]
  },
  {
   "cell_type": "code",
   "execution_count": 3,
   "id": "7cd18a4f-ec83-4234-a586-edf82f05bf6b",
   "metadata": {},
   "outputs": [
    {
     "name": "stdout",
     "output_type": "stream",
     "text": [
      "29 <class 'str'>\n"
     ]
    }
   ],
   "source": [
    "#Converting Data between different Data types \n",
    "\n",
    "num = 29\n",
    "\n",
    "num_str = str(num) #convert int to string\n",
    "\n",
    "print(num_str, type(num_str))"
   ]
  },
  {
   "cell_type": "code",
   "execution_count": 4,
   "id": "a8efbf9d-d450-4377-9953-152871463139",
   "metadata": {},
   "outputs": [
    {
     "name": "stdout",
     "output_type": "stream",
     "text": [
      "123 <class 'int'>\n"
     ]
    }
   ],
   "source": [
    "#Converting string to int\n",
    "\n",
    "str_to_int = int(\"123\")\n",
    "print(str_to_int, type(str_to_int))"
   ]
  },
  {
   "cell_type": "code",
   "execution_count": 5,
   "id": "a080e012-9b4e-47d8-b8b6-8953f0eecd0e",
   "metadata": {},
   "outputs": [
    {
     "name": "stdout",
     "output_type": "stream",
     "text": [
      "['P', 'y', 't', 'h', 'o', 'n'] <class 'list'>\n"
     ]
    }
   ],
   "source": [
    "string_to_list = list(\"Python\")\n",
    "print(string_to_list, type(string_to_list))"
   ]
  },
  {
   "cell_type": "code",
   "execution_count": 6,
   "id": "84de2433-64f5-4c4e-9615-94c0702dbf56",
   "metadata": {},
   "outputs": [
    {
     "name": "stdout",
     "output_type": "stream",
     "text": [
      "Addition: 22\n",
      "Division: 3.4\n",
      "Floor Division: 3\n"
     ]
    }
   ],
   "source": [
    "x = 17\n",
    "y = 5\n",
    "\n",
    "print(\"Addition:\", x + y)\n",
    "print(\"Division:\", x/y)\n",
    "print(\"Floor Division:\", x//y)"
   ]
  },
  {
   "cell_type": "code",
   "execution_count": 7,
   "id": "b927b85b-0c28-4fc3-89c2-aeca36cd0361",
   "metadata": {},
   "outputs": [
    {
     "name": "stdout",
     "output_type": "stream",
     "text": [
      "Hello, Nana Kodwo!\n"
     ]
    }
   ],
   "source": [
    "#String operations\n",
    "\n",
    "greeting = \"Hello\"\n",
    "name = \"Nana Kodwo\"\n",
    "\n",
    "print(greeting + \", \" + name + \"!\")"
   ]
  },
  {
   "cell_type": "code",
   "execution_count": 13,
   "id": "6a0d9f97-3311-4aff-adbc-3689e09937ac",
   "metadata": {},
   "outputs": [
    {
     "name": "stdout",
     "output_type": "stream",
     "text": [
      "Modified list: [1, 4, 7, 10]\n",
      "Modified set: {8, 1, 2, 3}\n"
     ]
    }
   ],
   "source": [
    "my_list = [1, 4, 7]\n",
    "my_list.append(10)\n",
    "\n",
    "print(\"Modified list:\", my_list)\n",
    "\n",
    "my_set = {1, 2, 3}\n",
    "my_set.add(8)\n",
    "print(\"Modified set:\", my_set)\n"
   ]
  },
  {
   "cell_type": "code",
   "execution_count": null,
   "id": "724d61ca-4b3d-48be-8ab3-902a93a29092",
   "metadata": {},
   "outputs": [],
   "source": []
  }
 ],
 "metadata": {
  "kernelspec": {
   "display_name": "Python 3",
   "language": "python",
   "name": "python3"
  },
  "language_info": {
   "codemirror_mode": {
    "name": "ipython",
    "version": 3
   },
   "file_extension": ".py",
   "mimetype": "text/x-python",
   "name": "python",
   "nbconvert_exporter": "python",
   "pygments_lexer": "ipython3",
   "version": "3.13.1"
  }
 },
 "nbformat": 4,
 "nbformat_minor": 5
}
