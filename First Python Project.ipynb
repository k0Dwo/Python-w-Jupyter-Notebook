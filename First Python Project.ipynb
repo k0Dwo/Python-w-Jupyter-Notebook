{
 "cells": [
  {
   "cell_type": "code",
   "execution_count": 1,
   "id": "0ab97eb3-23af-4b29-b68a-2b21fce995f7",
   "metadata": {},
   "outputs": [
    {
     "name": "stdout",
     "output_type": "stream",
     "text": [
      "My first project.\n"
     ]
    }
   ],
   "source": [
    "print(\"My first Python project.\")"
   ]
  },
  {
   "cell_type": "code",
   "execution_count": 26,
   "id": "677a3fda-f253-4f0e-9b7d-fd8cbcc026db",
   "metadata": {},
   "outputs": [
    {
     "name": "stdout",
     "output_type": "stream",
     "text": [
      "\n",
      "Addition:  49\n"
     ]
    }
   ],
   "source": [
    "a = 7\n",
    "b = 42\n",
    "c = a + b\n",
    "\n",
    "print(\"\\nAddition: \", a + b)"
   ]
  },
  {
   "cell_type": "code",
   "execution_count": 20,
   "id": "4483b14e-22dc-43ff-9105-27fa949b1df0",
   "metadata": {},
   "outputs": [
    {
     "name": "stdout",
     "output_type": "stream",
     "text": [
      "Sum = 49\n"
     ]
    }
   ],
   "source": [
    "print(\"Sum =\", c)"
   ]
  },
  {
   "cell_type": "code",
   "execution_count": 1,
   "id": "1860996f-1840-4342-8bd1-277a1b222260",
   "metadata": {},
   "outputs": [
    {
     "name": "stdout",
     "output_type": "stream",
     "text": [
      "Hello, welcome to Python programming!\n"
     ]
    }
   ],
   "source": [
    "print(\"Hello, welcome to Python programming!\")"
   ]
  },
  {
   "cell_type": "code",
   "execution_count": 5,
   "id": "6957574f-c5a6-48cc-b8ab-b5d4847f93bb",
   "metadata": {},
   "outputs": [
    {
     "name": "stdout",
     "output_type": "stream",
     "text": [
      "Your name is:  Nana Kodwo\n"
     ]
    }
   ],
   "source": [
    "name = \"Nana Kodwo\"\n",
    "print(\"Your name is: \", name)"
   ]
  },
  {
   "cell_type": "code",
   "execution_count": 10,
   "id": "7f0e3892-ecb7-4280-8c3b-7e998f3894d5",
   "metadata": {},
   "outputs": [
    {
     "name": "stdin",
     "output_type": "stream",
     "text": [
      "Enter a number:  8\n"
     ]
    },
    {
     "name": "stdout",
     "output_type": "stream",
     "text": [
      "The number is positive.\n"
     ]
    }
   ],
   "source": [
    "number = int(input(\"Enter a number: \"))\n",
    "if number > 0:\n",
    "    print(\"The number is positive.\")\n",
    "elif number < 0:\n",
    "    print(\"The number is negative.\")\n",
    "else:\n",
    "    print(\"The number is zero.\")"
   ]
  },
  {
   "cell_type": "code",
   "execution_count": 8,
   "id": "4b6e8442-12f2-457c-95eb-d6371c672dd3",
   "metadata": {},
   "outputs": [
    {
     "name": "stdout",
     "output_type": "stream",
     "text": [
      "1\n",
      "2\n",
      "3\n",
      "4\n"
     ]
    }
   ],
   "source": [
    "for i in range(1, 5):\n",
    "    print(i)"
   ]
  },
  {
   "cell_type": "code",
   "execution_count": 12,
   "id": "df6a9c26-3410-466d-868d-0bd34af6645d",
   "metadata": {},
   "outputs": [
    {
     "name": "stdout",
     "output_type": "stream",
     "text": [
      "7.0\n"
     ]
    }
   ],
   "source": [
    "print(float(c/a))"
   ]
  },
  {
   "cell_type": "code",
   "execution_count": null,
   "id": "c29a6c5e-1023-4e33-8235-2d2b1de03ea2",
   "metadata": {},
   "outputs": [],
   "source": []
  }
 ],
 "metadata": {
  "kernelspec": {
   "display_name": "Python [conda env:base] *",
   "language": "python",
   "name": "conda-base-py"
  },
  "language_info": {
   "codemirror_mode": {
    "name": "ipython",
    "version": 3
   },
   "file_extension": ".py",
   "mimetype": "text/x-python",
   "name": "python",
   "nbconvert_exporter": "python",
   "pygments_lexer": "ipython3",
   "version": "3.12.7"
  }
 },
 "nbformat": 4,
 "nbformat_minor": 5
}
